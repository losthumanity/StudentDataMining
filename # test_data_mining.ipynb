# test_data_mining.ipynb
{
    "cells": [
        {
            "cell_type": "code",
            "metadata": {},
            "source": [
                "import unittest\n",
                "import pandas as pd\n",
                "import numpy as np\n",
                "from sklearn.tree import DecisionTreeClassifier\n",
                "from sklearn.metrics import confusion_matrix, ConfusionMatrixDisplay\n",
                "\n",
                "# Mock data for testing\n",
                "class TestDecisionTree(unittest.TestCase):\n",
                "    def setUp(self):\n",
                "        # Create a mock dataset\n",
                "        self.students_train = pd.DataFrame({\n",
                "            'feature1': [1, 2, 3, 4],\n",
                "            'feature2': ['A', 'B', 'A', 'B'],\n",
                "            'status': ['Pass', 'Fail', 'Pass', 'Fail']\n",
                "        })\n",
                "\n",
                "        # Encode categorical data\n",
                "        self.students_train['feature2'] = self.students_train['feature2'].astype('category').cat.codes\n",
                "\n",
                "        # Train a mock DecisionTreeClassifier\n",
                "        self.model_dtree = DecisionTreeClassifier()\n",
                "        self.model_dtree.fit(self.students_train.drop('status', axis=1), self.students_train['status'])\n",
                "\n",
                "    def test_confusion_matrix(self):\n",
                "        # Predict on training data\n",
                "        predict_dtree = self.model_dtree.predict(self.students_train.drop('status', axis=1))\n",
                "\n",
                "        # Compute confusion matrix\n",
                "        cm = confusion_matrix(self.students_train['status'], predict_dtree, labels=['Pass', 'Fail'])\n",
                "\n",
                "        # Assert confusion matrix shape\n",
                "        self.assertEqual(cm.shape, (2, 2))\n",
                "\n",
                "        # Display confusion matrix\n",
                "        disp = ConfusionMatrixDisplay(confusion_matrix=cm, display_labels=['Pass', 'Fail'])\n",
                "        disp.plot()\n",
                "\n",
                "if __name__ == '__main__':\n",
                "    unittest.main(argv=[''], exit=False)\n"
            ]
        }
    ],
    "metadata": {
        "kernelspec": {
            "display_name": "Python 3",
            "language": "python",
            "name": "python3"
        },
        "language_info": {
            "codemirror_mode": {
                "name": "ipython",
                "version": 3
            },
            "file_extension": ".py",
            "mimetype": "text/x-python",
            "name": "python",
            "nbconvert_exporter": "python",
            "pygments_lexer": "ipython3",
            "version": "3.10.0"
        }
    },
    "nbformat": 4,
    "nbformat_minor": 5
}